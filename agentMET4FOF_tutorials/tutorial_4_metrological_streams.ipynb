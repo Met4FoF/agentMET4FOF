{
 "cells": [
  {
   "cell_type": "markdown",
   "metadata": {
    "pycharm": {
     "name": "#%% md\n"
    }
   },
   "source": [
    "# Tutorial 4 - A metrological datastream\n",
    "\n",
    "In this tutorial we introduce the new metrologically enabled agents. We initialize an\n",
    "agent, which generates an infinite sine signal. The signal is generated from the\n",
    "built-in class `MetrologicalSineGenerator` which delivers on each call one timestamp\n",
    "and one value each with associated uncertainties.\n",
    " \n",
    "The _MetrologicalSineGeneratorAgent_ is based on the new class\n",
    "_agentMET4FOF.metrological_agents.MetrologicalAgent_. We only adapt the\n",
    "methods `init_parameters()` and `agent_loop()`. This we need to hand over an instance\n",
    "of the signal generating class and to generate the actual samples. The rest of the\n",
    "buffering and plotting logic is encapsulated inside the new base classes."
   ]
  },
  {
   "cell_type": "code",
   "execution_count": 2,
   "metadata": {
    "pycharm": {
     "name": "#%%\n"
    }
   },
   "outputs": [
    {
     "name": "stdout",
     "output_type": "stream",
     "text": [
      "\n",
      "|------------------------------------------------------------|\n",
      "|                                                            |\n",
      "| Your agent network is starting up. Open your browser and   |\n",
      "| visit the agentMET4FOF dashboard on http://127.0.0.1:8050/ |\n",
      "|                                                            |\n",
      "|------------------------------------------------------------|\n",
      "\n",
      "SET STATE: Running\n",
      "[2022-02-03 21:09:14.499774] (SineGenerator): INITIALIZED\n",
      "[2022-02-03 21:09:14.500004] (Metrological plot including measurement uncertainties): INITIALIZED\n",
      "[2022-02-03 21:09:14.500050] (SineGenerator): Connected output module: Metrological plot including measurement uncertainties|\n"
     ]
    }
   ],
   "source": [
    "# %load tutorial_4_metrological_streams.py\n",
    "from agentMET4FOF.network import AgentNetwork\n",
    "from agentMET4FOF.metrological_agents import MetrologicalAgent, MetrologicalMonitorAgent\n",
    "from agentMET4FOF.metrological_streams import (\n",
    "    MetrologicalDataStreamMET4FOF,\n",
    "    MetrologicalSineGenerator,\n",
    ")\n",
    "from agentMET4FOF.utils import Backend\n",
    "\n",
    "\n",
    "class MetrologicalSineGeneratorAgent(MetrologicalAgent):\n",
    "    \"\"\"An agent streaming a sine signal\n",
    "\n",
    "    Takes samples from an instance of :py:class:`MetrologicalSineGenerator` and pushes\n",
    "    them sample by sample to connected agents via its output channel.\n",
    "    \"\"\"\n",
    "\n",
    "    # The datatype of the stream will be MetrologicalSineGenerator.\n",
    "    _stream: MetrologicalDataStreamMET4FOF\n",
    "\n",
    "    def init_parameters(\n",
    "        self,\n",
    "        signal: MetrologicalDataStreamMET4FOF = MetrologicalSineGenerator(),\n",
    "        **kwargs\n",
    "    ):\n",
    "        \"\"\"Initialize the input data stream\n",
    "\n",
    "        Parameters\n",
    "        ----------\n",
    "        signal : MetrologicalDataStreamMET4FOF\n",
    "            the underlying signal for the generator\n",
    "        \"\"\"\n",
    "        self._stream = signal\n",
    "        super().init_parameters()\n",
    "        self.set_output_data(channel=\"default\", metadata=self._stream.metadata)\n",
    "\n",
    "    def agent_loop(self):\n",
    "        \"\"\"Model the agent's behaviour\n",
    "\n",
    "        On state *Running* the agent will extract sample by sample the input\n",
    "        datastream's content and push it into its output buffer.\n",
    "        \"\"\"\n",
    "        if self.current_state == \"Running\":\n",
    "            self.set_output_data(channel=\"default\", data=self._stream.next_sample())\n",
    "            super().agent_loop()\n",
    "\n",
    "\n",
    "def demonstrate_metrological_stream():\n",
    "\n",
    "    # start agent network server\n",
    "    agent_network = AgentNetwork(backend=Backend.MESA)\n",
    "\n",
    "    # Initialize signal generating class outside of agent framework.\n",
    "    signal = MetrologicalSineGenerator()\n",
    "\n",
    "    # Initialize metrologically enabled agent taking name from signal source metadata.\n",
    "    source_name = signal.metadata.metadata[\"device_id\"]\n",
    "    source_agent = agent_network.add_agent(\n",
    "        name=source_name, agentType=MetrologicalSineGeneratorAgent\n",
    "    )\n",
    "    source_agent.init_parameters(signal)\n",
    "\n",
    "    # Initialize metrologically enabled plotting agent.\n",
    "    monitor_agent = agent_network.add_agent(\n",
    "        \"Metrological plot including measurement uncertainties\",\n",
    "        agentType=MetrologicalMonitorAgent,\n",
    "        buffer_size=50,\n",
    "    )\n",
    "\n",
    "    # Bind agents.\n",
    "    source_agent.bind_output(monitor_agent)\n",
    "\n",
    "    # Set all agents states to \"Running\".\n",
    "    agent_network.set_running_state()\n",
    "\n",
    "    # Allow for shutting down the network after execution.\n",
    "    return agent_network\n",
    "\n",
    "\n",
    "if __name__ == \"__main__\":\n",
    "    demonstrate_metrological_stream()\n"
   ]
  }
 ],
 "metadata": {
  "kernelspec": {
   "display_name": "Python 3 (ipykernel)",
   "language": "python",
   "name": "python3"
  },
  "language_info": {
   "codemirror_mode": {
    "name": "ipython",
    "version": 3
   },
   "file_extension": ".py",
   "mimetype": "text/x-python",
   "name": "python",
   "nbconvert_exporter": "python",
   "pygments_lexer": "ipython3",
   "version": "3.10.1"
  },
  "varInspector": {
   "cols": {
    "lenName": 16,
    "lenType": 16,
    "lenVar": 40
   },
   "kernels_config": {
    "python": {
     "delete_cmd_postfix": "",
     "delete_cmd_prefix": "del ",
     "library": "var_list.py",
     "varRefreshCmd": "print(var_dic_list())"
    },
    "r": {
     "delete_cmd_postfix": ") ",
     "delete_cmd_prefix": "rm(",
     "library": "var_list.r",
     "varRefreshCmd": "cat(var_dic_list()) "
    }
   },
   "types_to_exclude": [
    "module",
    "function",
    "builtin_function_or_method",
    "instance",
    "_Feature"
   ],
   "window_display": false
  }
 },
 "nbformat": 4,
 "nbformat_minor": 1
}