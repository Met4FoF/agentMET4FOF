{
 "cells": [
  {
   "cell_type": "markdown",
   "metadata": {
    "pycharm": {
     "name": "#%% md\n"
    }
   },
   "source": [
    "# Tutorial 4 - A metrological datastream\n",
    "\n",
    "In this tutorial we introduce the new metrologically enabled agents. We initialize an\n",
    "agent, which generates an infinite sine signal. The signal is generated from the\n",
    "built-in class `MetrologicalSineGenerator` which delivers on each call one timestamp and one value each\n",
    "with associated uncertainties.\n",
    " \n",
    "The _MetrologicalSineGeneratorAgent_ is based on the new class\n",
    "_agentMET4FOF.metrological_agents.MetrologicalAgent_. We only adapt the\n",
    "methods `init_parameters()` and `agent_loop()`. This we need to hand over an instance\n",
    "of the signal generating class and to generate the actual samples. The rest of the\n",
    "buffering and plotting logic is encapsulated inside of the new base classes."
   ]
  },
  {
   "cell_type": "code",
   "execution_count": 2,
   "metadata": {
    "pycharm": {
     "name": "#%%\n"
    }
   },
   "outputs": [
    {
     "name": "stdout",
     "output_type": "stream",
     "text": [
      "Starting NameServer...\n",
      "Broadcast server running on 0.0.0.0:9091\n",
      "NS running on 127.0.0.1:3333 (127.0.0.1)\n",
      "URI = PYRO:Pyro.NameServer@127.0.0.1:3333\n",
      "\n",
      "--------------------------------------------------------------\n",
      "|                                                            |\n",
      "| Your agent network is starting up. Open your browser and   |\n",
      "| visit the agentMET4FOF dashboard on http://127.0.0.1:8050/ |\n",
      "|                                                            |\n",
      "--------------------------------------------------------------\n",
      "\n",
      "INFO [2021-02-05 19:24:37.900901] (SineGenerator): INITIALIZED\n",
      "INFO [2021-02-05 19:24:37.939928] (MonitorAgent): INITIALIZED\n",
      "[2021-02-05 19:24:37.955210] (SineGenerator): Connected output module: MonitorAgent\n",
      "SET STATE:   Running\n",
      "[2021-02-05 19:24:38.907664] (SineGenerator): Pack time: 0.000336\n",
      "[2021-02-05 19:24:38.909019] (SineGenerator): Sending: [array([[0.        , 0.        , 0.68494649, 0.25      ]]), <time_series_metadata.scheme.MetaData object at 0x7f424e871730>]\n",
      "[2021-02-05 19:24:38.910202] (MonitorAgent): Received: {'from': 'SineGenerator', 'data': array([[0.        , 0.        , 0.68494649, 0.25      ]]), 'metadata': <time_series_metadata.scheme.MetaData object at 0x7f424e822bb0>, 'senderType': 'MetrologicalSineGeneratorAgent', 'channel': 'default'}\n",
      "[2021-02-05 19:24:38.911237] (MonitorAgent): Buffer: {'SineGenerator': {'data': array([[0.        , 0.        , 0.68494649, 0.25      ]]), 'metadata': [<time_series_metadata.scheme.MetaData object at 0x7f424e822bb0>]}}\n",
      "[2021-02-05 19:24:38.911459] (MonitorAgent): Tproc: 0.000968\n",
      "[2021-02-05 19:24:39.907438] (SineGenerator): Pack time: 0.000403\n",
      "[2021-02-05 19:24:39.909067] (MonitorAgent): Received: {'from': 'SineGenerator', 'data': array([[0.002     , 0.        , 0.42028269, 0.25      ]]), 'metadata': <time_series_metadata.scheme.MetaData object at 0x7f424e822c70>, 'senderType': 'MetrologicalSineGeneratorAgent', 'channel': 'default'}\n",
      "[2021-02-05 19:24:39.908668] (SineGenerator): Sending: [array([[0.002     , 0.        , 0.42028269, 0.25      ]]), <time_series_metadata.scheme.MetaData object at 0x7f424e871730>]\n",
      "[2021-02-05 19:24:39.910652] (MonitorAgent): Buffer: {'SineGenerator': {'data': array([[0.        , 0.        , 0.68494649, 0.25      ],\n",
      "       [0.002     , 0.        , 0.42028269, 0.25      ]]), 'metadata': [<time_series_metadata.scheme.MetaData object at 0x7f424e822bb0>, <time_series_metadata.scheme.MetaData object at 0x7f424e822c70>]}}\n",
      "[2021-02-05 19:24:39.911060] (MonitorAgent): Tproc: 0.001731\n",
      "[2021-02-05 19:24:40.908816] (SineGenerator): Pack time: 0.000738\n",
      "[2021-02-05 19:24:40.912960] (SineGenerator): Sending: [array([[0.004     , 0.        , 1.54415656, 0.25      ]]), <time_series_metadata.scheme.MetaData object at 0x7f424e871730>]\n",
      "[2021-02-05 19:24:40.913508] (MonitorAgent): Received: {'from': 'SineGenerator', 'data': array([[0.004     , 0.        , 1.54415656, 0.25      ]]), 'metadata': <time_series_metadata.scheme.MetaData object at 0x7f424e822ca0>, 'senderType': 'MetrologicalSineGeneratorAgent', 'channel': 'default'}\n",
      "[2021-02-05 19:24:40.917793] (MonitorAgent): Buffer: {'SineGenerator': {'data': array([[0.        , 0.        , 0.68494649, 0.25      ],\n",
      "       [0.002     , 0.        , 0.42028269, 0.25      ],\n",
      "       [0.004     , 0.        , 1.54415656, 0.25      ]]), 'metadata': [<time_series_metadata.scheme.MetaData object at 0x7f424e822bb0>, <time_series_metadata.scheme.MetaData object at 0x7f424e822c70>, <time_series_metadata.scheme.MetaData object at 0x7f424e822ca0>]}}\n",
      "[2021-02-05 19:24:40.919608] (MonitorAgent): Tproc: 0.005357\n",
      "[2021-02-05 19:24:41.907632] (SineGenerator): Pack time: 0.000437\n",
      "[2021-02-05 19:24:41.909056] (SineGenerator): Sending: [array([[0.006    , 0.       , 0.9256774, 0.25     ]]), <time_series_metadata.scheme.MetaData object at 0x7f424e871730>]\n",
      "[2021-02-05 19:24:41.909673] (MonitorAgent): Received: {'from': 'SineGenerator', 'data': array([[0.006    , 0.       , 0.9256774, 0.25     ]]), 'metadata': <time_series_metadata.scheme.MetaData object at 0x7f424e822d00>, 'senderType': 'MetrologicalSineGeneratorAgent', 'channel': 'default'}\n",
      "[2021-02-05 19:24:41.913785] (MonitorAgent): Buffer: {'SineGenerator': {'data': array([[0.        , 0.        , 0.68494649, 0.25      ],\n",
      "       [0.002     , 0.        , 0.42028269, 0.25      ],\n",
      "       [0.004     , 0.        , 1.54415656, 0.25      ],\n",
      "       [0.006     , 0.        , 0.9256774 , 0.25      ]]), 'metadata': [<time_series_metadata.scheme.MetaData object at 0x7f424e822bb0>, <time_series_metadata.scheme.MetaData object at 0x7f424e822c70>, <time_series_metadata.scheme.MetaData object at 0x7f424e822ca0>, <time_series_metadata.scheme.MetaData object at 0x7f424e822d00>]}}\n",
      "[2021-02-05 19:24:41.914125] (MonitorAgent): Tproc: 0.004137\n",
      "[2021-02-05 19:24:42.909007] (SineGenerator): Pack time: 0.000784\n",
      "[2021-02-05 19:24:42.911438] (SineGenerator): Sending: [array([[0.008     , 0.        , 1.12170929, 0.25      ]]), <time_series_metadata.scheme.MetaData object at 0x7f424e871730>]\n",
      "[2021-02-05 19:24:42.913822] (MonitorAgent): Received: {'from': 'SineGenerator', 'data': array([[0.008     , 0.        , 1.12170929, 0.25      ]]), 'metadata': <time_series_metadata.scheme.MetaData object at 0x7f424e822490>, 'senderType': 'MetrologicalSineGeneratorAgent', 'channel': 'default'}\n",
      "[2021-02-05 19:24:42.920323] (MonitorAgent): Buffer: {'SineGenerator': {'data': array([[0.        , 0.        , 0.68494649, 0.25      ],\n",
      "       [0.002     , 0.        , 0.42028269, 0.25      ],\n",
      "       [0.004     , 0.        , 1.54415656, 0.25      ],\n",
      "       [0.006     , 0.        , 0.9256774 , 0.25      ],\n",
      "       [0.008     , 0.        , 1.12170929, 0.25      ]]), 'metadata': [<time_series_metadata.scheme.MetaData object at 0x7f424e822bb0>, <time_series_metadata.scheme.MetaData object at 0x7f424e822c70>, <time_series_metadata.scheme.MetaData object at 0x7f424e822ca0>, <time_series_metadata.scheme.MetaData object at 0x7f424e822d00>, <time_series_metadata.scheme.MetaData object at 0x7f424e822490>]}}\n",
      "[2021-02-05 19:24:42.921078] (MonitorAgent): Tproc: 0.006613\n"
     ]
    }
   ],
   "source": [
    "# %load tutorial_4_metrological_streams.py\n",
    "from agentMET4FOF.agents import AgentNetwork\n",
    "from agentMET4FOF.metrological_agents import MetrologicalAgent, MetrologicalMonitorAgent\n",
    "from agentMET4FOF.metrological_streams import (\n",
    "    MetrologicalDataStreamMET4FOF,\n",
    "    MetrologicalSineGenerator,\n",
    ")\n",
    "\n",
    "\n",
    "class MetrologicalSineGeneratorAgent(MetrologicalAgent):\n",
    "    \"\"\"An agent streaming a sine signal\n",
    "\n",
    "    Takes samples from an instance of :py:class:`MetrologicalSineGenerator` and pushes\n",
    "    them sample by sample to connected agents via its output channel.\n",
    "    \"\"\"\n",
    "\n",
    "    # The datatype of the stream will be MetrologicalSineGenerator.\n",
    "    _stream: MetrologicalDataStreamMET4FOF\n",
    "\n",
    "    def init_parameters(\n",
    "        self,\n",
    "        signal: MetrologicalDataStreamMET4FOF = MetrologicalSineGenerator(),\n",
    "        **kwargs\n",
    "    ):\n",
    "        \"\"\"Initialize the input data stream\n",
    "\n",
    "        Parameters\n",
    "        ----------\n",
    "        signal : MetrologicalDataStreamMET4FOF\n",
    "            the underlying signal for the generator\n",
    "        \"\"\"\n",
    "        self._stream = signal\n",
    "        super().init_parameters()\n",
    "        self.set_output_data(channel=\"default\", metadata=self._stream.metadata)\n",
    "\n",
    "    def agent_loop(self):\n",
    "        \"\"\"Model the agent's behaviour\n",
    "\n",
    "        On state *Running* the agent will extract sample by sample the input\n",
    "        datastream's content and push it into its output buffer.\n",
    "        \"\"\"\n",
    "        if self.current_state == \"Running\":\n",
    "            self.set_output_data(channel=\"default\", data=[self._stream.next_sample()])\n",
    "            super().agent_loop()\n",
    "\n",
    "\n",
    "def demonstrate_metrological_stream():\n",
    "\n",
    "    # start agent network server\n",
    "    agent_network = AgentNetwork(dashboard_modules=True)\n",
    "\n",
    "    # Initialize signal generating class outside of agent framework.\n",
    "    signal = MetrologicalSineGenerator()\n",
    "\n",
    "    # Initialize metrologically enabled agent taking name from signal source metadata.\n",
    "    source_name = signal.metadata.metadata[\"device_id\"]\n",
    "    source_agent = agent_network.add_agent(\n",
    "        name=source_name, agentType=MetrologicalSineGeneratorAgent\n",
    "    )\n",
    "    source_agent.init_parameters(signal)\n",
    "\n",
    "    # Initialize metrologically enabled plotting agent.\n",
    "    monitor_agent = agent_network.add_agent(\n",
    "        \"MonitorAgent\",\n",
    "        agentType=MetrologicalMonitorAgent,\n",
    "        buffer_size=50,\n",
    "    )\n",
    "\n",
    "    # Bind agents.\n",
    "    source_agent.bind_output(monitor_agent)\n",
    "\n",
    "    # Set all agents states to \"Running\".\n",
    "    agent_network.set_running_state()\n",
    "\n",
    "    # Allow for shutting down the network after execution.\n",
    "    return agent_network\n",
    "\n",
    "\n",
    "if __name__ == \"__main__\":\n",
    "    demonstrate_metrological_stream()"
   ]
  }
 ],
 "metadata": {
  "kernelspec": {
   "display_name": "Python 3",
   "language": "python",
   "name": "python3"
  },
  "language_info": {
   "codemirror_mode": {
    "name": "ipython",
    "version": 3
   },
   "file_extension": ".py",
   "mimetype": "text/x-python",
   "name": "python",
   "nbconvert_exporter": "python",
   "pygments_lexer": "ipython3",
   "version": "3.8.7"
  },
  "varInspector": {
   "cols": {
    "lenName": 16,
    "lenType": 16,
    "lenVar": 40
   },
   "kernels_config": {
    "python": {
     "delete_cmd_postfix": "",
     "delete_cmd_prefix": "del ",
     "library": "var_list.py",
     "varRefreshCmd": "print(var_dic_list())"
    },
    "r": {
     "delete_cmd_postfix": ") ",
     "delete_cmd_prefix": "rm(",
     "library": "var_list.r",
     "varRefreshCmd": "cat(var_dic_list()) "
    }
   },
   "types_to_exclude": [
    "module",
    "function",
    "builtin_function_or_method",
    "instance",
    "_Feature"
   ],
   "window_display": false
  }
 },
 "nbformat": 4,
 "nbformat_minor": 1
}