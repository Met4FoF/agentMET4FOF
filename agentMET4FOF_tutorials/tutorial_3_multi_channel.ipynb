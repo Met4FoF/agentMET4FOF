{
 "cells": [
  {
   "cell_type": "markdown",
   "metadata": {
    "pycharm": {
     "name": "#%% md\n"
    }
   },
   "source": [
    "# Tutorial 3 - An advanced pipeline with multichannel signals.\n",
    "\n",
    "We can use different channels for the receiver  to handle specifically each channel \n",
    "name. This can be useful for example in splitting train and test channels in machine \n",
    "learning Then, the user will need to implement specific handling of each channel in \n",
    "the receiving agent.\n",
    " \n",
    "In this example, the *MultiGeneratorAgent* is used to send two different types of \n",
    "data - Sine and Cosine generator. This is done via specifying `send_output\n",
    "(channel=\"sine\")` and `send_output(channel=\"cosine\")`.\n",
    "\n",
    "Then on the receiving end, the `on_received_message()` function checks for \n",
    "`message['channel']` to handle it separately.\n",
    "\n",
    "Note that by default, *MonitorAgent* is only subscribed to the `\"default\"` channel. \n",
    "Hence it will not respond to the `\"cosine\"` and `\"sine\"` channel."
   ]
  },
  {
   "cell_type": "code",
   "execution_count": null,
   "metadata": {
    "pycharm": {
     "is_executing": false,
     "name": "#%%\n"
    }
   },
   "outputs": [],
   "source": [
    "# %load tutorial_3_multi_channel.py\n",
    "from agentMET4FOF.agents import AgentMET4FOF, AgentNetwork, MonitorAgent\n",
    "from agentMET4FOF.streams import SineGenerator, CosineGenerator\n",
    "\n",
    "\n",
    "def minus(data, minus_val):\n",
    "    return data-minus_val\n",
    "\n",
    "\n",
    "def plus(data,plus_val):\n",
    "    return data+plus_val\n",
    "\n",
    "\n",
    "class MultiGeneratorAgent(AgentMET4FOF):\n",
    "    def init_parameters(self):\n",
    "        self.sine_stream = SineGenerator()\n",
    "        self.cos_stream = CosineGenerator()\n",
    "\n",
    "    def agent_loop(self):\n",
    "        if self.current_state == \"Running\":\n",
    "            sine_data = self.sine_stream.next_sample() #dictionary\n",
    "            cosine_data = self.sine_stream.next_sample() #dictionary\n",
    "            self.send_output(sine_data['x'], channel=\"sine\")\n",
    "            self.send_output(cosine_data['x'], channel=\"cosine\")\n",
    "\n",
    "\n",
    "class MultiOutputMathAgent(AgentMET4FOF):\n",
    "    def init_parameters(self,minus_param=0.5,plus_param=0.5):\n",
    "        self.minus_param = minus_param\n",
    "        self.plus_param = plus_param\n",
    "\n",
    "    def on_received_message(self, message):\n",
    "        \"\"\"\n",
    "        Checks for message['channel'] and handles them separately\n",
    "        Acceptable channels are \"cosine\" and \"sine\"\n",
    "        \"\"\"\n",
    "        if message['channel'] == \"cosine\":\n",
    "            minus_data = minus(message['data'], self.minus_param)\n",
    "            self.send_output({'cosine_minus':minus_data})\n",
    "        elif message['channel'] == 'sine':\n",
    "            plus_data = plus(message['data'], self.plus_param)\n",
    "            self.send_output({'sine_plus':plus_data})\n",
    "\n",
    "\n",
    "def main():\n",
    "    # start agent network server\n",
    "    agentNetwork = AgentNetwork()\n",
    "    # init agents\n",
    "    gen_agent = agentNetwork.add_agent(agentType=MultiGeneratorAgent)\n",
    "    multi_math_agent = agentNetwork.add_agent(agentType=MultiOutputMathAgent)\n",
    "    monitor_agent = agentNetwork.add_agent(agentType=MonitorAgent)\n",
    "    # connect agents : We can connect multiple agents to any particular agent\n",
    "    # However the agent needs to implement handling multiple inputs\n",
    "    agentNetwork.bind_agents(gen_agent, multi_math_agent)\n",
    "    agentNetwork.bind_agents(gen_agent, monitor_agent)\n",
    "    agentNetwork.bind_agents(multi_math_agent, monitor_agent)\n",
    "    # set all agents states to \"Running\"\n",
    "    agentNetwork.set_running_state()\n",
    "\n",
    "    # allow for shutting down the network after execution\n",
    "    return agentNetwork\n",
    "\n",
    "\n",
    "if __name__ == '__main__':\n",
    "    main()\n",
    "\n",
    "\n",
    "\n"
   ]
  }
 ],
 "metadata": {
  "kernelspec": {
   "display_name": "Python 3",
   "language": "python",
   "name": "python3"
  },
  "language_info": {
   "codemirror_mode": {
    "name": "ipython",
    "version": 3
   },
   "file_extension": ".py",
   "mimetype": "text/x-python",
   "name": "python",
   "nbconvert_exporter": "python",
   "pygments_lexer": "ipython3",
   "version": "3.7.5"
  },
  "pycharm": {
   "stem_cell": {
    "cell_type": "raw",
    "source": [],
    "metadata": {
     "collapsed": false
    }
   }
  }
 },
 "nbformat": 4,
 "nbformat_minor": 1
}
