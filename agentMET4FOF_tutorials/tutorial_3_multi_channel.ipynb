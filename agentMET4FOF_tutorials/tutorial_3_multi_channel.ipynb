{
 "cells": [
  {
   "cell_type": "markdown",
   "metadata": {
    "pycharm": {
     "name": "#%% md\n"
    }
   },
   "source": [
    "# Tutorial 3 - An advanced pipeline with multichannel signals.\n",
    "\n",
    "We can use different channels for the receiver  to handle specifically each channel \n",
    "name. This can be useful for example in splitting train and test channels in machine \n",
    "learning Then, the user will need to implement specific handling of each channel in \n",
    "the receiving agent.\n",
    " \n",
    "In this example, the *MultiGeneratorAgent* is used to send two different types of \n",
    "data - Sine and Cosine generator. This is done via specifying `send_output\n",
    "(channel=\"sine\")` and `send_output(channel=\"cosine\")`.\n",
    "\n",
    "Then on the receiving end, the `on_received_message()` function checks for \n",
    "`message['channel']` to handle it separately.\n",
    "\n",
    "Note that by default, *MonitorAgent* is only subscribed to the `\"default\"` channel. \n",
    "Hence it will not respond to the `\"cosine\"` and `\"sine\"` channel."
   ]
  },
  {
   "cell_type": "code",
   "execution_count": 2,
   "metadata": {
    "pycharm": {
     "name": "#%%\n"
    }
   },
   "outputs": [
    {
     "name": "stdout",
     "output_type": "stream",
     "text": [
      "Starting NameServer...\n",
      "Broadcast server running on 0.0.0.0:9091\n",
      "NS running on 127.0.0.1:3333 (127.0.0.1)\n",
      "URI = PYRO:Pyro.NameServer@127.0.0.1:3333\n",
      "\n",
      "--------------------------------------------------------------\n",
      "|                                                            |\n",
      "| Your agent network is starting up. Open your browser and   |\n",
      "| visit the agentMET4FOF dashboard on http://127.0.0.1:8050/ |\n",
      "|                                                            |\n",
      "--------------------------------------------------------------\n",
      "\n",
      "INFO [2021-02-05 19:22:24.987594] (MultiGeneratorAgent_1): INITIALIZED\n",
      "INFO [2021-02-05 19:22:25.023399] (MultiOutputMathAgent_1): INITIALIZED\n",
      "INFO [2021-02-05 19:22:25.051788] (MonitorAgent_1): INITIALIZED\n",
      "[2021-02-05 19:22:25.071079] (MultiGeneratorAgent_1): Connected output module: MultiOutputMathAgent_1\n",
      "[2021-02-05 19:22:25.080910] (MultiGeneratorAgent_1): Connected output module: MonitorAgent_1\n",
      "[2021-02-05 19:22:25.098071] (MultiOutputMathAgent_1): Connected output module: MonitorAgent_1\n",
      "SET STATE:   Running\n",
      "[2021-02-05 19:22:25.991167] (MultiGeneratorAgent_1): Pack time: 0.00034\n",
      "[2021-02-05 19:22:25.991887] (MultiGeneratorAgent_1): Sending: [0.]\n",
      "[2021-02-05 19:22:25.992459] (MonitorAgent_1): Received: {'from': 'MultiGeneratorAgent_1', 'data': array([0.]), 'senderType': 'MultiGeneratorAgent', 'channel': 'sine'}\n",
      "[2021-02-05 19:22:25.995271] (MultiOutputMathAgent_1): Received: {'from': 'MultiGeneratorAgent_1', 'data': array([0.]), 'senderType': 'MultiGeneratorAgent', 'channel': 'sine'}\n",
      "[2021-02-05 19:22:25.992155] (MultiGeneratorAgent_1): Pack time: 0.000109\n",
      "[2021-02-05 19:22:25.992620] (MonitorAgent_1): Tproc: 1.4e-05\n",
      "[2021-02-05 19:22:25.995647] (MultiOutputMathAgent_1): Pack time: 0.000224\n",
      "[2021-02-05 19:22:25.992811] (MultiGeneratorAgent_1): Sending: [0.06279052]\n",
      "[2021-02-05 19:22:25.993519] (MonitorAgent_1): Received: {'from': 'MultiGeneratorAgent_1', 'data': array([0.06279052]), 'senderType': 'MultiGeneratorAgent', 'channel': 'cosine'}\n",
      "[2021-02-05 19:22:25.996258] (MultiOutputMathAgent_1): Sending: {'sine_plus': array([0.5])}\n",
      "[2021-02-05 19:22:25.996382] (MultiOutputMathAgent_1): Tproc: 0.000987\n",
      "[2021-02-05 19:22:25.993658] (MonitorAgent_1): Tproc: 6e-06\n",
      "[2021-02-05 19:22:25.996932] (MultiOutputMathAgent_1): Received: {'from': 'MultiGeneratorAgent_1', 'data': array([0.06279052]), 'senderType': 'MultiGeneratorAgent', 'channel': 'cosine'}\n",
      "[2021-02-05 19:22:25.996166] (MonitorAgent_1): Received: {'from': 'MultiOutputMathAgent_1', 'data': {'sine_plus': array([0.5])}, 'senderType': 'MultiOutputMathAgent', 'channel': 'default'}\n",
      "[2021-02-05 19:22:25.997141] (MultiOutputMathAgent_1): Pack time: 0.000105\n",
      "[2021-02-05 19:22:25.996551] (MonitorAgent_1): Buffer: {'MultiOutputMathAgent_1': {'sine_plus': array([0.5])}}\n",
      "[2021-02-05 19:22:25.997460] (MultiOutputMathAgent_1): Sending: {'cosine_minus': array([-0.43720948])}\n",
      "[2021-02-05 19:22:25.996646] (MonitorAgent_1): Tproc: 0.00037\n",
      "[2021-02-05 19:22:25.997542] (MultiOutputMathAgent_1): Tproc: 0.00053\n",
      "[2021-02-05 19:22:25.997715] (MonitorAgent_1): Received: {'from': 'MultiOutputMathAgent_1', 'data': {'cosine_minus': array([-0.43720948])}, 'senderType': 'MultiOutputMathAgent', 'channel': 'default'}\n",
      "[2021-02-05 19:22:25.998228] (MonitorAgent_1): Buffer: {'MultiOutputMathAgent_1': {'sine_plus': array([0.5]), 'cosine_minus': array([-0.43720948])}}\n",
      "[2021-02-05 19:22:25.998299] (MonitorAgent_1): Tproc: 0.000488\n",
      "[2021-02-05 19:22:26.992409] (MultiGeneratorAgent_1): Pack time: 0.000556\n",
      "[2021-02-05 19:22:26.995214] (MultiOutputMathAgent_1): Received: {'from': 'MultiGeneratorAgent_1', 'data': array([0.12533323]), 'senderType': 'MultiGeneratorAgent', 'channel': 'sine'}\n",
      "[2021-02-05 19:22:26.995303] (MonitorAgent_1): Received: {'from': 'MultiGeneratorAgent_1', 'data': array([0.12533323]), 'senderType': 'MultiGeneratorAgent', 'channel': 'sine'}\n",
      "[2021-02-05 19:22:26.994201] (MultiGeneratorAgent_1): Sending: [0.12533323]\n",
      "[2021-02-05 19:22:26.996409] (MultiOutputMathAgent_1): Pack time: 0.000621\n",
      "[2021-02-05 19:22:26.995688] (MonitorAgent_1): Tproc: 1.6e-05\n",
      "[2021-02-05 19:22:26.995315] (MultiGeneratorAgent_1): Pack time: 0.000649\n",
      "[2021-02-05 19:22:26.998020] (MultiOutputMathAgent_1): Sending: {'sine_plus': array([0.62533323])}\n",
      "[2021-02-05 19:22:26.999748] (MonitorAgent_1): Received: {'from': 'MultiGeneratorAgent_1', 'data': array([0.18738131]), 'senderType': 'MultiGeneratorAgent', 'channel': 'cosine'}\n",
      "[2021-02-05 19:22:26.996890] (MultiGeneratorAgent_1): Sending: [0.18738131]\n",
      "[2021-02-05 19:22:26.999032] (MultiOutputMathAgent_1): Tproc: 0.00333\n",
      "[2021-02-05 19:22:27.000547] (MonitorAgent_1): Tproc: 1.8e-05\n",
      "[2021-02-05 19:22:27.003974] (MonitorAgent_1): Received: {'from': 'MultiOutputMathAgent_1', 'data': {'sine_plus': array([0.62533323])}, 'senderType': 'MultiOutputMathAgent', 'channel': 'default'}\n",
      "[2021-02-05 19:22:27.002023] (MultiOutputMathAgent_1): Received: {'from': 'MultiGeneratorAgent_1', 'data': array([0.18738131]), 'senderType': 'MultiGeneratorAgent', 'channel': 'cosine'}\n",
      "[2021-02-05 19:22:27.009822] (MonitorAgent_1): Buffer: {'MultiOutputMathAgent_1': {'sine_plus': array([0.5       , 0.62533323]), 'cosine_minus': array([-0.43720948])}}\n",
      "[2021-02-05 19:22:27.003907] (MultiOutputMathAgent_1): Pack time: 0.001006\n",
      "[2021-02-05 19:22:27.011142] (MonitorAgent_1): Tproc: 0.006396\n",
      "[2021-02-05 19:22:27.006037] (MultiOutputMathAgent_1): Sending: {'cosine_minus': array([-0.31261869])}\n",
      "[2021-02-05 19:22:27.014405] (MonitorAgent_1): Received: {'from': 'MultiOutputMathAgent_1', 'data': {'cosine_minus': array([-0.31261869])}, 'senderType': 'MultiOutputMathAgent', 'channel': 'default'}\n",
      "[2021-02-05 19:22:27.007324] (MultiOutputMathAgent_1): Tproc: 0.004642\n",
      "[2021-02-05 19:22:27.018020] (MonitorAgent_1): Buffer: {'MultiOutputMathAgent_1': {'sine_plus': array([0.5       , 0.62533323]), 'cosine_minus': array([-0.43720948, -0.31261869])}}\n",
      "[2021-02-05 19:22:27.019178] (MonitorAgent_1): Tproc: 0.004049\n"
     ]
    }
   ],
   "source": [
    "# %load tutorial_3_multi_channel.py\n",
    "from agentMET4FOF.agents import AgentMET4FOF, AgentNetwork, MonitorAgent\n",
    "from agentMET4FOF.streams import SineGenerator, CosineGenerator\n",
    "\n",
    "\n",
    "class MultiGeneratorAgent(AgentMET4FOF):\n",
    "\n",
    "    _sine_stream: SineGenerator\n",
    "    _cos_stream: CosineGenerator\n",
    "\n",
    "    def init_parameters(self):\n",
    "        self._sine_stream = SineGenerator()\n",
    "        self._cos_stream = CosineGenerator()\n",
    "\n",
    "    def agent_loop(self):\n",
    "        if self.current_state == \"Running\":\n",
    "            sine_data = self._sine_stream.next_sample()  # dictionary\n",
    "            cosine_data = self._sine_stream.next_sample()  # dictionary\n",
    "            self.send_output(sine_data[\"quantities\"], channel=\"sine\")\n",
    "            self.send_output(cosine_data[\"quantities\"], channel=\"cosine\")\n",
    "\n",
    "\n",
    "class MultiOutputMathAgent(AgentMET4FOF):\n",
    "\n",
    "    _minus_param: float\n",
    "    _plus_param: float\n",
    "\n",
    "    def init_parameters(self, minus_param=0.5, plus_param=0.5):\n",
    "        self._minus_param = minus_param\n",
    "        self._plus_param = plus_param\n",
    "\n",
    "    def on_received_message(self, message):\n",
    "        \"\"\"\n",
    "        Checks for message['channel'] and handles them separately\n",
    "        Acceptable channels are \"cosine\" and \"sine\"\n",
    "        \"\"\"\n",
    "        if message[\"channel\"] == \"cosine\":\n",
    "            minus_data = self.minus(message[\"data\"], self._minus_param)\n",
    "            self.send_output({\"cosine_minus\": minus_data})\n",
    "        elif message[\"channel\"] == \"sine\":\n",
    "            plus_data = self.plus(message[\"data\"], self._plus_param)\n",
    "            self.send_output({\"sine_plus\": plus_data})\n",
    "\n",
    "    @staticmethod\n",
    "    def minus(data, minus_val):\n",
    "        return data - minus_val\n",
    "\n",
    "    @staticmethod\n",
    "    def plus(data, plus_val):\n",
    "        return data + plus_val\n",
    "\n",
    "\n",
    "def main():\n",
    "    # start agent network server\n",
    "    agentNetwork = AgentNetwork()\n",
    "    # init agents\n",
    "    gen_agent = agentNetwork.add_agent(agentType=MultiGeneratorAgent)\n",
    "    multi_math_agent = agentNetwork.add_agent(agentType=MultiOutputMathAgent)\n",
    "    monitor_agent = agentNetwork.add_agent(agentType=MonitorAgent)\n",
    "    # connect agents : We can connect multiple agents to any particular agent\n",
    "    # However the agent needs to implement handling multiple inputs\n",
    "    agentNetwork.bind_agents(gen_agent, multi_math_agent)\n",
    "    agentNetwork.bind_agents(gen_agent, monitor_agent)\n",
    "    agentNetwork.bind_agents(multi_math_agent, monitor_agent)\n",
    "    # set all agents states to \"Running\"\n",
    "    agentNetwork.set_running_state()\n",
    "\n",
    "    # allow for shutting down the network after execution\n",
    "    return agentNetwork\n",
    "\n",
    "\n",
    "if __name__ == \"__main__\":\n",
    "    main()"
   ]
  }
 ],
 "metadata": {
  "kernelspec": {
   "display_name": "Python 3",
   "language": "python",
   "name": "python3"
  },
  "language_info": {
   "codemirror_mode": {
    "name": "ipython",
    "version": 3
   },
   "file_extension": ".py",
   "mimetype": "text/x-python",
   "name": "python",
   "nbconvert_exporter": "python",
   "pygments_lexer": "ipython3",
   "version": "3.8.7"
  },
  "varInspector": {
   "cols": {
    "lenName": 16,
    "lenType": 16,
    "lenVar": 40
   },
   "kernels_config": {
    "python": {
     "delete_cmd_postfix": "",
     "delete_cmd_prefix": "del ",
     "library": "var_list.py",
     "varRefreshCmd": "print(var_dic_list())"
    },
    "r": {
     "delete_cmd_postfix": ") ",
     "delete_cmd_prefix": "rm(",
     "library": "var_list.r",
     "varRefreshCmd": "cat(var_dic_list()) "
    }
   },
   "types_to_exclude": [
    "module",
    "function",
    "builtin_function_or_method",
    "instance",
    "_Feature"
   ],
   "window_display": false
  }
 },
 "nbformat": 4,
 "nbformat_minor": 1
}
