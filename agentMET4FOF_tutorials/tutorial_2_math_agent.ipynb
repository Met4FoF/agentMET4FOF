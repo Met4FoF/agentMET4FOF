{
 "cells": [
  {
   "cell_type": "markdown",
   "metadata": {
    "pycharm": {
     "name": "#%% md\n"
    }
   },
   "source": [
    "# Tutorial 2 - A simple pipeline with signal postprocessing.\n",
    "\n",
    "Here we demonstrate how to build a *MathAgent* as an intermediate to process the \n",
    "*SineGeneratorAgent*'s output before plotting.\n",
    "Subsequently, a *MultiMathAgent* is built to show the ability to send a dictionary of \n",
    "multiple fields to the recipient. We provide a custom `on_received_message()` function, \n",
    "which is called every time a message is received from input agents.\n",
    "\n",
    "The received message is a dictionary of the form:\n",
    "\n",
    "    {\n",
    "    'from':agent_name,\n",
    "    'data': data,\n",
    "    'senderType': agent_class_name,\n",
    "    'channel':'channel_name'\n",
    "    }\n",
    "\n",
    "By default, `'channel'` is set to `\"default\"`, however a custom channel can be set \n",
    "when needed, which is demonstrated in the next tutorial."
   ]
  },
  {
   "cell_type": "code",
   "execution_count": null,
   "metadata": {
    "pycharm": {
     "is_executing": false,
     "name": "#%%\n"
    }
   },
   "outputs": [],
   "source": [
    "# %load tutorial_2_math_agent.py\n",
    "from agentMET4FOF.agents import AgentMET4FOF, AgentNetwork, MonitorAgent\n",
    "from agentMET4FOF.streams import SineGenerator\n",
    "\n",
    "\n",
    "# Define simple math functions.\n",
    "def divide_by_two(numerator: float) -> float:\n",
    "    return numerator / 2\n",
    "\n",
    "\n",
    "def minus(minuend: float, subtrahend: float) -> float:\n",
    "    return minuend - subtrahend\n",
    "\n",
    "\n",
    "def plus(summand_1: float, summand_2: float) -> float:\n",
    "    return summand_1+summand_2\n",
    "\n",
    "\n",
    "class MathAgent(AgentMET4FOF):\n",
    "    def on_received_message(self, message):\n",
    "        data = divide_by_two(message['data'])\n",
    "        self.send_output(data)\n",
    "\n",
    "class MultiMathAgent(AgentMET4FOF):\n",
    "    def init_parameters(self,minus_param=0.5,plus_param=0.5):\n",
    "        self.minus_param = minus_param\n",
    "        self.plus_param = plus_param\n",
    "\n",
    "    def on_received_message(self, message):\n",
    "        minus_data = minus(message['data'], self.minus_param)\n",
    "        plus_data = plus(message['data'], self.plus_param)\n",
    "\n",
    "        self.send_output({'minus':minus_data,'plus':plus_data})\n",
    "\n",
    "class SineGeneratorAgent(AgentMET4FOF):\n",
    "    def init_parameters(self):\n",
    "        self.stream = SineGenerator()\n",
    "\n",
    "    def agent_loop(self):\n",
    "        if self.current_state == \"Running\":\n",
    "            sine_data = self.stream.next_sample() #dictionary\n",
    "            self.send_output(sine_data['x'])\n",
    "\n",
    "\n",
    "def main():\n",
    "    # start agent network server\n",
    "    agentNetwork = AgentNetwork()\n",
    "    # init agents\n",
    "    gen_agent = agentNetwork.add_agent(agentType=SineGeneratorAgent)\n",
    "    math_agent = agentNetwork.add_agent(agentType=MathAgent)\n",
    "    multi_math_agent = agentNetwork.add_agent(agentType=MultiMathAgent)\n",
    "    monitor_agent = agentNetwork.add_agent(agentType=MonitorAgent)\n",
    "    # connect agents : We can connect multiple agents to any particular agent\n",
    "    agentNetwork.bind_agents(gen_agent, math_agent)\n",
    "    agentNetwork.bind_agents(gen_agent, multi_math_agent)\n",
    "    # connect\n",
    "    agentNetwork.bind_agents(gen_agent, monitor_agent)\n",
    "    agentNetwork.bind_agents(math_agent, monitor_agent)\n",
    "    agentNetwork.bind_agents(multi_math_agent, monitor_agent)\n",
    "    # set all agents states to \"Running\"\n",
    "    agentNetwork.set_running_state()\n",
    "\n",
    "    # allow for shutting down the network after execution\n",
    "    return agentNetwork\n",
    "\n",
    "\n",
    "if __name__ == '__main__':\n",
    "    main()\n",
    "\n",
    "\n"
   ]
  }
 ],
 "metadata": {
  "kernelspec": {
   "display_name": "Python 3",
   "language": "python",
   "name": "python3"
  },
  "language_info": {
   "codemirror_mode": {
    "name": "ipython",
    "version": 3
   },
   "file_extension": ".py",
   "mimetype": "text/x-python",
   "name": "python",
   "nbconvert_exporter": "python",
   "pygments_lexer": "ipython3",
   "version": "3.7.5"
  },
  "pycharm": {
   "stem_cell": {
    "cell_type": "raw",
    "source": [],
    "metadata": {
     "collapsed": false
    }
   }
  }
 },
 "nbformat": 4,
 "nbformat_minor": 1
}
