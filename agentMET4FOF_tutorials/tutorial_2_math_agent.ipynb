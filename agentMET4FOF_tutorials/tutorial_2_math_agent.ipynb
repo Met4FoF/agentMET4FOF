{
 "cells": [
  {
   "cell_type": "markdown",
   "metadata": {
    "pycharm": {
     "name": "#%% md\n"
    }
   },
   "source": [
    "# Tutorial 2 - A simple pipeline with signal postprocessing.\n",
    "\n",
    "Here we demonstrate how to build a *MathAgent* as an intermediate to process the \n",
    "*SineGeneratorAgent*'s output before plotting.\n",
    "Subsequently, a *MultiMathAgent* is built to show the ability to send a dictionary of \n",
    "multiple fields to the recipient. We provide a custom `on_received_message()` function, \n",
    "which is called every time a message is received from input agents.\n",
    "\n",
    "The received message is a dictionary of the form:\n",
    "\n",
    "    {\n",
    "    'from':agent_name,\n",
    "    'data': data,\n",
    "    'senderType': agent_class_name,\n",
    "    'channel':'channel_name'\n",
    "    }\n",
    "\n",
    "By default, `'channel'` is set to `\"default\"`, however a custom channel can be set \n",
    "when needed, which is demonstrated in the next tutorial."
   ]
  },
  {
   "cell_type": "code",
   "execution_count": 1,
   "metadata": {
    "pycharm": {
     "name": "#%%\n"
    }
   },
   "outputs": [
    {
     "name": "stdout",
     "output_type": "stream",
     "text": [
      "Starting NameServer...\n",
      "Broadcast server running on 0.0.0.0:9091\n",
      "NS running on 127.0.0.1:3333 (127.0.0.1)\n",
      "URI = PYRO:Pyro.NameServer@127.0.0.1:3333\n",
      "\n",
      "--------------------------------------------------------------\n",
      "|                                                            |\n",
      "| Your agent network is starting up. Open your browser and   |\n",
      "| visit the agentMET4FOF dashboard on http://127.0.0.1:8050/ |\n",
      "|                                                            |\n",
      "--------------------------------------------------------------\n",
      "\n",
      "INFO [2021-02-05 19:18:07.585019] (SineGeneratorAgent_1): INITIALIZED\n",
      "INFO [2021-02-05 19:18:07.619684] (MathAgent_1): INITIALIZED\n",
      "INFO [2021-02-05 19:18:07.654192] (MultiMathAgent_1): INITIALIZED\n",
      "INFO [2021-02-05 19:18:07.691566] (MonitorAgent_1): INITIALIZED\n",
      "[2021-02-05 19:18:07.706815] (SineGeneratorAgent_1): Connected output module: MathAgent_1\n",
      "[2021-02-05 19:18:07.714664] (SineGeneratorAgent_1): Connected output module: MultiMathAgent_1\n",
      "[2021-02-05 19:18:07.724529] (SineGeneratorAgent_1): Connected output module: MonitorAgent_1\n",
      "[2021-02-05 19:18:07.738462] (MathAgent_1): Connected output module: MonitorAgent_1\n",
      "[2021-02-05 19:18:07.750583] (MultiMathAgent_1): Connected output module: MonitorAgent_1\n",
      "SET STATE:   Running\n",
      "[2021-02-05 19:18:08.589720] (SineGeneratorAgent_1): Pack time: 0.000765\n",
      "[2021-02-05 19:18:08.592546] (MathAgent_1): Received: {'from': 'SineGeneratorAgent_1', 'data': array([0.]), 'senderType': 'SineGeneratorAgent', 'channel': 'default'}\n",
      "[2021-02-05 19:18:08.595246] (MonitorAgent_1): Received: {'from': 'SineGeneratorAgent_1', 'data': array([0.]), 'senderType': 'SineGeneratorAgent', 'channel': 'default'}\n",
      "[2021-02-05 19:18:08.596230] (MultiMathAgent_1): Received: {'from': 'SineGeneratorAgent_1', 'data': array([0.]), 'senderType': 'SineGeneratorAgent', 'channel': 'default'}\n",
      "[2021-02-05 19:18:08.595257] (SineGeneratorAgent_1): Sending: [0.]\n",
      "[2021-02-05 19:18:08.593186] (MathAgent_1): Pack time: 0.000388\n",
      "[2021-02-05 19:18:08.600139] (MonitorAgent_1): Buffer: {'SineGeneratorAgent_1': array([0.])}\n",
      "[2021-02-05 19:18:08.596854] (MultiMathAgent_1): Pack time: 0.000383\n",
      "[2021-02-05 19:18:08.597959] (MultiMathAgent_1): Sending: {'minus': array([-0.5]), 'plus': array([0.5])}\n",
      "[2021-02-05 19:18:08.593788] (MathAgent_1): Sending: [0.]\n",
      "[2021-02-05 19:18:08.600521] (MonitorAgent_1): Tproc: 0.000931\n",
      "[2021-02-05 19:18:08.598126] (MultiMathAgent_1): Tproc: 0.001735\n",
      "[2021-02-05 19:18:08.594015] (MathAgent_1): Tproc: 0.001276\n",
      "[2021-02-05 19:18:08.606396] (MonitorAgent_1): Received: {'from': 'MathAgent_1', 'data': array([0.]), 'senderType': 'MathAgent', 'channel': 'default'}\n",
      "[2021-02-05 19:18:08.607428] (MonitorAgent_1): Buffer: {'SineGeneratorAgent_1': array([0.]), 'MathAgent_1': array([0.])}\n",
      "[2021-02-05 19:18:08.607807] (MonitorAgent_1): Tproc: 0.001189\n",
      "[2021-02-05 19:18:08.613784] (MonitorAgent_1): Received: {'from': 'MultiMathAgent_1', 'data': {'minus': array([-0.5]), 'plus': array([0.5])}, 'senderType': 'MultiMathAgent', 'channel': 'default'}\n",
      "[2021-02-05 19:18:08.620942] (MonitorAgent_1): Buffer: {'SineGeneratorAgent_1': array([0.]), 'MathAgent_1': array([0.]), 'MultiMathAgent_1': {'minus': array([-0.5]), 'plus': array([0.5])}}\n",
      "[2021-02-05 19:18:08.625194] (MonitorAgent_1): Tproc: 0.01115\n",
      "[2021-02-05 19:18:09.590078] (SineGeneratorAgent_1): Pack time: 0.000561\n",
      "[2021-02-05 19:18:09.592887] (SineGeneratorAgent_1): Sending: [0.06279052]\n",
      "[2021-02-05 19:18:09.593616] (MathAgent_1): Received: {'from': 'SineGeneratorAgent_1', 'data': array([0.06279052]), 'senderType': 'SineGeneratorAgent', 'channel': 'default'}\n",
      "[2021-02-05 19:18:09.593134] (MultiMathAgent_1): Received: {'from': 'SineGeneratorAgent_1', 'data': array([0.06279052]), 'senderType': 'SineGeneratorAgent', 'channel': 'default'}\n",
      "[2021-02-05 19:18:09.598873] (MonitorAgent_1): Received: {'from': 'SineGeneratorAgent_1', 'data': array([0.06279052]), 'senderType': 'SineGeneratorAgent', 'channel': 'default'}\n",
      "[2021-02-05 19:18:09.608525] (MonitorAgent_1): Buffer: {'SineGeneratorAgent_1': array([0.        , 0.06279052]), 'MathAgent_1': array([0.]), 'MultiMathAgent_1': {'minus': array([-0.5]), 'plus': array([0.5])}}\n",
      "[2021-02-05 19:18:09.594706] (MathAgent_1): Pack time: 0.000551\n",
      "[2021-02-05 19:18:09.596935] (MultiMathAgent_1): Pack time: 0.001516\n",
      "[2021-02-05 19:18:09.613332] (MonitorAgent_1): Tproc: 0.013659\n",
      "[2021-02-05 19:18:09.596653] (MathAgent_1): Sending: [0.03139526]\n",
      "[2021-02-05 19:18:09.613588] (MultiMathAgent_1): Sending: {'minus': array([-0.43720948]), 'plus': array([0.56279052])}\n",
      "[2021-02-05 19:18:09.620995] (MonitorAgent_1): Received: {'from': 'MathAgent_1', 'data': array([0.03139526]), 'senderType': 'MathAgent', 'channel': 'default'}\n",
      "[2021-02-05 19:18:09.597111] (MathAgent_1): Tproc: 0.003054\n",
      "[2021-02-05 19:18:09.616401] (MultiMathAgent_1): Tproc: 0.022068\n",
      "[2021-02-05 19:18:09.631221] (MonitorAgent_1): Buffer: {'SineGeneratorAgent_1': array([0.        , 0.06279052]), 'MathAgent_1': array([0.        , 0.03139526]), 'MultiMathAgent_1': {'minus': array([-0.5]), 'plus': array([0.5])}}\n",
      "[2021-02-05 19:18:09.632022] (MonitorAgent_1): Tproc: 0.0105\n",
      "[2021-02-05 19:18:09.637249] (MonitorAgent_1): Received: {'from': 'MultiMathAgent_1', 'data': {'minus': array([-0.43720948]), 'plus': array([0.56279052])}, 'senderType': 'MultiMathAgent', 'channel': 'default'}\n",
      "[2021-02-05 19:18:09.651789] (MonitorAgent_1): Buffer: {'SineGeneratorAgent_1': array([0.        , 0.06279052]), 'MathAgent_1': array([0.        , 0.03139526]), 'MultiMathAgent_1': {'minus': array([-0.5       , -0.43720948]), 'plus': array([0.5       , 0.56279052])}}\n",
      "[2021-02-05 19:18:09.652908] (MonitorAgent_1): Tproc: 0.014285\n"
     ]
    }
   ],
   "source": [
    "# %load tutorial_2_math_agent.py\n",
    "from agentMET4FOF.agents import (\n",
    "    AgentMET4FOF,\n",
    "    AgentNetwork,\n",
    "    MonitorAgent,\n",
    "    SineGeneratorAgent,\n",
    ")\n",
    "\n",
    "\n",
    "class MathAgent(AgentMET4FOF):\n",
    "    def on_received_message(self, message):\n",
    "        data = self.divide_by_two(message[\"data\"])\n",
    "        self.send_output(data)\n",
    "\n",
    "    # Define simple math functions.\n",
    "    @staticmethod\n",
    "    def divide_by_two(numerator: float) -> float:\n",
    "        return numerator / 2\n",
    "\n",
    "\n",
    "class MultiMathAgent(AgentMET4FOF):\n",
    "\n",
    "    _minus_param: float\n",
    "    _plus_param: float\n",
    "\n",
    "    def init_parameters(self, minus_param=0.5, plus_param=0.5):\n",
    "        self._minus_param = minus_param\n",
    "        self._plus_param = plus_param\n",
    "\n",
    "    def on_received_message(self, message):\n",
    "        minus_data = self.minus(message[\"data\"], self._minus_param)\n",
    "        plus_data = self.plus(message[\"data\"], self._plus_param)\n",
    "\n",
    "        self.send_output({\"minus\": minus_data, \"plus\": plus_data})\n",
    "\n",
    "    @staticmethod\n",
    "    def minus(minuend: float, subtrahend: float) -> float:\n",
    "        return minuend - subtrahend\n",
    "\n",
    "    @staticmethod\n",
    "    def plus(summand_1: float, summand_2: float) -> float:\n",
    "        return summand_1 + summand_2\n",
    "\n",
    "\n",
    "def main():\n",
    "    # start agent network server\n",
    "    agentNetwork = AgentNetwork()\n",
    "    # init agents\n",
    "    gen_agent = agentNetwork.add_agent(agentType=SineGeneratorAgent)\n",
    "    math_agent = agentNetwork.add_agent(agentType=MathAgent)\n",
    "    multi_math_agent = agentNetwork.add_agent(agentType=MultiMathAgent)\n",
    "    monitor_agent = agentNetwork.add_agent(agentType=MonitorAgent)\n",
    "    # connect agents : We can connect multiple agents to any particular agent\n",
    "    agentNetwork.bind_agents(gen_agent, math_agent)\n",
    "    agentNetwork.bind_agents(gen_agent, multi_math_agent)\n",
    "    # connect\n",
    "    agentNetwork.bind_agents(gen_agent, monitor_agent)\n",
    "    agentNetwork.bind_agents(math_agent, monitor_agent)\n",
    "    agentNetwork.bind_agents(multi_math_agent, monitor_agent)\n",
    "    # set all agents states to \"Running\"\n",
    "    agentNetwork.set_running_state()\n",
    "\n",
    "    # allow for shutting down the network after execution\n",
    "    return agentNetwork\n",
    "\n",
    "\n",
    "if __name__ == \"__main__\":\n",
    "    main()"
   ]
  }
 ],
 "metadata": {
  "kernelspec": {
   "display_name": "Python 3",
   "language": "python",
   "name": "python3"
  },
  "language_info": {
   "codemirror_mode": {
    "name": "ipython",
    "version": 3
   },
   "file_extension": ".py",
   "mimetype": "text/x-python",
   "name": "python",
   "nbconvert_exporter": "python",
   "pygments_lexer": "ipython3",
   "version": "3.8.7"
  },
  "varInspector": {
   "cols": {
    "lenName": 16,
    "lenType": 16,
    "lenVar": 40
   },
   "kernels_config": {
    "python": {
     "delete_cmd_postfix": "",
     "delete_cmd_prefix": "del ",
     "library": "var_list.py",
     "varRefreshCmd": "print(var_dic_list())"
    },
    "r": {
     "delete_cmd_postfix": ") ",
     "delete_cmd_prefix": "rm(",
     "library": "var_list.r",
     "varRefreshCmd": "cat(var_dic_list()) "
    }
   },
   "types_to_exclude": [
    "module",
    "function",
    "builtin_function_or_method",
    "instance",
    "_Feature"
   ],
   "window_display": false
  }
 },
 "nbformat": 4,
 "nbformat_minor": 1
}
