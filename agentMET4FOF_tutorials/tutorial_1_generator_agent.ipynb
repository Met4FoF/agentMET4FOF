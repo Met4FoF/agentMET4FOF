{
 "cells": [
  {
   "cell_type": "markdown",
   "metadata": {
    "pycharm": {
     "name": "#%% md\n"
    }
   },
   "source": [
    "# Tutorial 1 - A simple pipeline to plot a signal\n",
    "\n",
    "First we define a simple pipeline of two agents, of which one will generate a signal \n",
    "(in our case a *SineGeneratorAgent*) and the other one plots the signal on the \n",
    "dashboard (this is always a *MonitorAgent*).\n",
    "\n",
    "We define a *SineGeneratorAgent* for which we have to override the \n",
    "functions `init_parameters()` & `agent_loop()` to define the new agent's behaviour.\n",
    "\n",
    "*   `init_parameters()` is used to setup the input data stream and potentially other \n",
    "necessary parameters.\n",
    "*   `agent_loop()` will be endlessly repeated until further notice. It will \n",
    "sample by sample extract the input data stream's content and push it to all agents \n",
    "connected to *SineGeneratorAgent*'s output channel by invoking `send_output()`.\n",
    "\n",
    "The *MonitorAgent* is connected to the *SineGeneratorAgent*'s output channel and per \n",
    "default automatically plots the output. \n",
    "\n",
    "Each agent has an internal `current_state` which can be used as a switch to change the \n",
    "behaviour of the agent. The available states are listed\n",
    "[here](https://github.com/bangxiangyong/agentMET4FOF/blob/a95b788544e8cce1e0bb757184da8c6447e96927/agentMET4FOF/agents.py#L78).\n",
    "\n",
    "As soon as all agents are initialized and the connections are set up, the agent \n",
    "network is started by accordingly changing all agents' state simultaneously."
   ]
  },
  {
   "cell_type": "code",
   "execution_count": 1,
   "metadata": {
    "pycharm": {
     "name": "#%%\n"
    }
   },
   "outputs": [
    {
     "name": "stdout",
     "output_type": "stream",
     "text": [
      "Starting NameServer...\n",
      "Broadcast server running on 0.0.0.0:9091\n",
      "NS running on 127.0.0.1:3333 (127.0.0.1)\n",
      "URI = PYRO:Pyro.NameServer@127.0.0.1:3333\n",
      "\n",
      "--------------------------------------------------------------\n",
      "|                                                            |\n",
      "| Your agent network is starting up. Open your browser and   |\n",
      "| visit the agentMET4FOF dashboard on http://127.0.0.1:8050/ |\n",
      "|                                                            |\n",
      "--------------------------------------------------------------\n",
      "\n",
      "INFO [2021-02-05 19:13:45.925758] (SineGeneratorAgent_1): INITIALIZED\n",
      "INFO [2021-02-05 19:13:45.960173] (MonitorAgent_1): INITIALIZED\n",
      "[2021-02-05 19:13:45.975418] (SineGeneratorAgent_1): Connected output module: MonitorAgent_1\n",
      "SET STATE:   Running\n",
      "[2021-02-05 19:13:46.932922] (SineGeneratorAgent_1): Pack time: 0.000957\n",
      "[2021-02-05 19:13:46.935938] (SineGeneratorAgent_1): Sending: [0.]\n",
      "[2021-02-05 19:13:46.939035] (MonitorAgent_1): Received: {'from': 'SineGeneratorAgent_1', 'data': array([0.]), 'senderType': 'SineGeneratorAgent', 'channel': 'default'}\n",
      "[2021-02-05 19:13:46.941337] (MonitorAgent_1): Buffer: {'SineGeneratorAgent_1': array([0.])}\n",
      "[2021-02-05 19:13:46.942394] (MonitorAgent_1): Tproc: 0.002278\n",
      "[2021-02-05 19:13:47.932181] (SineGeneratorAgent_1): Pack time: 0.000614\n",
      "[2021-02-05 19:13:47.935312] (SineGeneratorAgent_1): Sending: [0.06279052]\n",
      "[2021-02-05 19:13:47.936553] (MonitorAgent_1): Received: {'from': 'SineGeneratorAgent_1', 'data': array([0.06279052]), 'senderType': 'SineGeneratorAgent', 'channel': 'default'}\n",
      "[2021-02-05 19:13:47.941367] (MonitorAgent_1): Buffer: {'SineGeneratorAgent_1': array([0.        , 0.06279052])}\n",
      "[2021-02-05 19:13:47.942190] (MonitorAgent_1): Tproc: 0.004357\n",
      "[2021-02-05 19:13:48.931650] (SineGeneratorAgent_1): Pack time: 0.00047\n",
      "[2021-02-05 19:13:48.933397] (SineGeneratorAgent_1): Sending: [0.12533323]\n",
      "[2021-02-05 19:13:48.934297] (MonitorAgent_1): Received: {'from': 'SineGeneratorAgent_1', 'data': array([0.12533323]), 'senderType': 'SineGeneratorAgent', 'channel': 'default'}\n",
      "[2021-02-05 19:13:48.936482] (MonitorAgent_1): Buffer: {'SineGeneratorAgent_1': array([0.        , 0.06279052, 0.12533323])}\n",
      "[2021-02-05 19:13:48.936997] (MonitorAgent_1): Tproc: 0.002201\n",
      "[2021-02-05 19:13:49.932143] (SineGeneratorAgent_1): Pack time: 0.000937\n",
      "[2021-02-05 19:13:49.940442] (SineGeneratorAgent_1): Sending: [0.18738131]\n",
      "[2021-02-05 19:13:49.934471] (MonitorAgent_1): Received: {'from': 'SineGeneratorAgent_1', 'data': array([0.18738131]), 'senderType': 'SineGeneratorAgent', 'channel': 'default'}\n",
      "[2021-02-05 19:13:49.938767] (MonitorAgent_1): Buffer: {'SineGeneratorAgent_1': array([0.        , 0.06279052, 0.12533323, 0.18738131])}\n",
      "[2021-02-05 19:13:49.939977] (MonitorAgent_1): Tproc: 0.004969\n",
      "[2021-02-05 19:13:50.930904] (SineGeneratorAgent_1): Pack time: 0.000255\n",
      "[2021-02-05 19:13:50.931636] (SineGeneratorAgent_1): Sending: [0.24868989]\n",
      "[2021-02-05 19:13:50.932383] (MonitorAgent_1): Received: {'from': 'SineGeneratorAgent_1', 'data': array([0.24868989]), 'senderType': 'SineGeneratorAgent', 'channel': 'default'}\n",
      "[2021-02-05 19:13:50.933944] (MonitorAgent_1): Buffer: {'SineGeneratorAgent_1': array([0.        , 0.06279052, 0.12533323, 0.18738131, 0.24868989])}\n",
      "[2021-02-05 19:13:50.934185] (MonitorAgent_1): Tproc: 0.001522\n",
      "NS shut down.\n",
      "[2021-02-05 19:13:51.932632] (SineGeneratorAgent_1): Pack time: 0.001127\n",
      "[2021-02-05 19:13:51.935690] (SineGeneratorAgent_1): Sending: [0.30901699]\n",
      "[2021-02-05 19:13:51.935544] (MonitorAgent_1): Received: {'from': 'SineGeneratorAgent_1', 'data': array([0.30901699]), 'senderType': 'SineGeneratorAgent', 'channel': 'default'}\n",
      "[2021-02-05 19:13:51.944128] (MonitorAgent_1): Buffer: {'SineGeneratorAgent_1': array([0.        , 0.06279052, 0.12533323, 0.18738131, 0.24868989,\n",
      "       0.30901699])}\n",
      "[2021-02-05 19:13:51.944378] (MonitorAgent_1): Tproc: 0.008396\n",
      "[2021-02-05 19:13:52.930087] (SineGeneratorAgent_1): Pack time: 0.000108\n",
      "[2021-02-05 19:13:52.930343] (SineGeneratorAgent_1): Sending: [0.36812455]\n",
      "[2021-02-05 19:13:52.930548] (MonitorAgent_1): Received: {'from': 'SineGeneratorAgent_1', 'data': array([0.36812455]), 'senderType': 'SineGeneratorAgent', 'channel': 'default'}\n",
      "[2021-02-05 19:13:52.930905] (MonitorAgent_1): Buffer: {'SineGeneratorAgent_1': array([0.        , 0.06279052, 0.12533323, 0.18738131, 0.24868989,\n",
      "       0.30901699, 0.36812455])}\n",
      "[2021-02-05 19:13:52.931004] (MonitorAgent_1): Tproc: 0.000381\n",
      "[2021-02-05 19:13:53.930135] (SineGeneratorAgent_1): Pack time: 0.000144\n",
      "[2021-02-05 19:13:53.930526] (SineGeneratorAgent_1): Sending: [0.42577929]\n",
      "[2021-02-05 19:13:53.930537] (MonitorAgent_1): Received: {'from': 'SineGeneratorAgent_1', 'data': array([0.42577929]), 'senderType': 'SineGeneratorAgent', 'channel': 'default'}\n",
      "[2021-02-05 19:13:53.930940] (MonitorAgent_1): Buffer: {'SineGeneratorAgent_1': array([0.        , 0.06279052, 0.12533323, 0.18738131, 0.24868989,\n",
      "       0.30901699, 0.36812455, 0.42577929])}\n",
      "[2021-02-05 19:13:53.930993] (MonitorAgent_1): Tproc: 0.00038\n",
      "[2021-02-05 19:13:54.932072] (SineGeneratorAgent_1): Pack time: 0.0009\n",
      "[2021-02-05 19:13:54.934391] (SineGeneratorAgent_1): Sending: [0.48175367]\n",
      "[2021-02-05 19:13:54.934275] (MonitorAgent_1): Received: {'from': 'SineGeneratorAgent_1', 'data': array([0.48175367]), 'senderType': 'SineGeneratorAgent', 'channel': 'default'}\n",
      "[2021-02-05 19:13:54.936874] (MonitorAgent_1): Buffer: {'SineGeneratorAgent_1': array([0.        , 0.06279052, 0.12533323, 0.18738131, 0.24868989,\n",
      "       0.30901699, 0.36812455, 0.42577929, 0.48175367])}\n",
      "[2021-02-05 19:13:54.937315] (MonitorAgent_1): Tproc: 0.002635\n",
      "[2021-02-05 19:13:55.931558] (SineGeneratorAgent_1): Pack time: 0.000454\n",
      "[2021-02-05 19:13:55.933193] (SineGeneratorAgent_1): Sending: [0.53582679]\n",
      "[2021-02-05 19:13:55.933792] (MonitorAgent_1): Received: {'from': 'SineGeneratorAgent_1', 'data': array([0.53582679]), 'senderType': 'SineGeneratorAgent', 'channel': 'default'}\n",
      "[2021-02-05 19:13:55.936039] (MonitorAgent_1): Buffer: {'SineGeneratorAgent_1': array([0.        , 0.06279052, 0.12533323, 0.18738131, 0.24868989,\n",
      "       0.30901699, 0.36812455, 0.42577929, 0.48175367, 0.53582679])}\n",
      "[2021-02-05 19:13:55.936606] (MonitorAgent_1): Tproc: 0.002345\n"
     ]
    }
   ],
   "source": [
    "# %load tutorial_1_generator_agent.py\n",
    "from agentMET4FOF.agents import AgentMET4FOF, AgentNetwork, MonitorAgent\n",
    "from agentMET4FOF.streams import SineGenerator\n",
    "\n",
    "\n",
    "class SineGeneratorAgent(AgentMET4FOF):\n",
    "    \"\"\"An agent streaming a sine signal\n",
    "\n",
    "    Takes samples from the :py:mod:`SineGenerator` and pushes them sample by sample\n",
    "    to connected agents via its output channel.\n",
    "    \"\"\"\n",
    "\n",
    "    # The datatype of the stream will be SineGenerator.\n",
    "    _sine_stream: SineGenerator\n",
    "\n",
    "    def init_parameters(self):\n",
    "        \"\"\"Initialize the input data\n",
    "\n",
    "        Initialize the input data stream as an instance of the\n",
    "        :py:mod:`SineGenerator` class\n",
    "        \"\"\"\n",
    "        self._sine_stream = SineGenerator()\n",
    "\n",
    "    def agent_loop(self):\n",
    "        \"\"\"Model the agent's behaviour\n",
    "\n",
    "        On state *Running* the agent will extract sample by sample the input data\n",
    "        streams content and push it via invoking :py:method:`AgentMET4FOF.send_output`.\n",
    "        \"\"\"\n",
    "        if self.current_state == \"Running\":\n",
    "            sine_data = self._sine_stream.next_sample()  # dictionary\n",
    "            self.send_output(sine_data[\"quantities\"])\n",
    "\n",
    "\n",
    "def demonstrate_generator_agent_use():\n",
    "    # Start agent network server.\n",
    "    agent_network = AgentNetwork()\n",
    "\n",
    "    # Initialize agents by adding them to the agent network.\n",
    "    gen_agent = agent_network.add_agent(agentType=SineGeneratorAgent)\n",
    "    monitor_agent = agent_network.add_agent(agentType=MonitorAgent)\n",
    "\n",
    "    # Interconnect agents by either way:\n",
    "    # 1) by agent network.bind_agents(source, target).\n",
    "    agent_network.bind_agents(gen_agent, monitor_agent)\n",
    "\n",
    "    # 2) by the agent.bind_output().\n",
    "    gen_agent.bind_output(monitor_agent)\n",
    "\n",
    "    # Set all agents' states to \"Running\".\n",
    "    agent_network.set_running_state()\n",
    "\n",
    "    # Allow for shutting down the network after execution\n",
    "    return agent_network\n",
    "\n",
    "\n",
    "if __name__ == \"__main__\":\n",
    "    demonstrate_generator_agent_use()\n"
   ]
  }
 ],
 "metadata": {
  "kernelspec": {
   "display_name": "Python 3",
   "language": "python",
   "name": "python3"
  },
  "language_info": {
   "codemirror_mode": {
    "name": "ipython",
    "version": 3
   },
   "file_extension": ".py",
   "mimetype": "text/x-python",
   "name": "python",
   "nbconvert_exporter": "python",
   "pygments_lexer": "ipython3",
   "version": "3.8.7"
  },
  "varInspector": {
   "cols": {
    "lenName": 16,
    "lenType": 16,
    "lenVar": 40
   },
   "kernels_config": {
    "python": {
     "delete_cmd_postfix": "",
     "delete_cmd_prefix": "del ",
     "library": "var_list.py",
     "varRefreshCmd": "print(var_dic_list())"
    },
    "r": {
     "delete_cmd_postfix": ") ",
     "delete_cmd_prefix": "rm(",
     "library": "var_list.r",
     "varRefreshCmd": "cat(var_dic_list()) "
    }
   },
   "types_to_exclude": [
    "module",
    "function",
    "builtin_function_or_method",
    "instance",
    "_Feature"
   ],
   "window_display": false
  }
 },
 "nbformat": 4,
 "nbformat_minor": 1
}