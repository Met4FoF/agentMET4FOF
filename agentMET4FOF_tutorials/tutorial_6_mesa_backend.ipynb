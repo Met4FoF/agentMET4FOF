{
 "cells": [
  {
   "cell_type": "markdown",
   "metadata": {
    "pycharm": {
     "name": "#%% md\n"
    }
   },
   "source": [
    "# Tutorial 6 - Using a different backend\n",
    "\n",
    "By default, osBrain backend offers real connectivity between agents (each agent has\n",
    "its own port & IP address) in distributed systems (e,g connecting agents from\n",
    "raspberry pis to PCs, etc.), which explains why it is harder to debug.\n",
    "\n",
    "In the Mesa backend, there's only one real timer which is started in the\n",
    "AgentNetwork, and every timer tick will advance the agent actions by calling `step()`\n",
    "which includes `agent_loop` and `on_received_message`. Moreover, in the Mesa\n",
    "backend, agents do not have their own port and IP addresses, they are simulated\n",
    "objects to emulate the behaviour of distributed agents. Hence, osBrain is closer\n",
    "to deployment phase, whereas Mesa is suited for the simulation/designing phase. To\n",
    "switch between the backends, simply pass one of the backend enums Backend.OSBRAIN or\n",
    "Backend.MESA in the AgentNetwork instantiation.\n"
   ]
  },
  {
   "cell_type": "code",
   "execution_count": 2,
   "metadata": {
    "pycharm": {
     "name": "#%%\n"
    }
   },
   "outputs": [
    {
     "name": "stdout",
     "output_type": "stream",
     "text": [
      "\n",
      "|------------------------------------------------------------|\n",
      "|                                                            |\n",
      "| Your agent network is starting up. Open your browser and   |\n",
      "| visit the agentMET4FOF dashboard on http://127.0.0.1:8050/ |\n",
      "|                                                            |\n",
      "|------------------------------------------------------------|\n",
      "\n",
      "[2022-02-03 21:12:53.133404] (SineGeneratorAgent_1): INITIALIZED\n",
      "[2022-02-03 21:12:53.133536] (MonitorAgent_1): INITIALIZED\n",
      "[2022-02-03 21:12:53.133582] (SineGeneratorAgent_1): Connected output module: MonitorAgent_1\n",
      "SET STATE:   Running\n"
     ]
    }
   ],
   "source": [
    "# %load tutorial_6_mesa_backend.py\n",
    "from agentMET4FOF.network import AgentNetwork\n",
    "from agentMET4FOF.agents import MonitorAgent, SineGeneratorAgent\n",
    "from agentMET4FOF.utils import Backend\n",
    "\n",
    "\n",
    "def demonstrate_mesa_backend():\n",
    "\n",
    "    # Start agent network and specify backend via the corresponding keyword parameter.\n",
    "    _agent_network = AgentNetwork(backend=Backend.MESA)\n",
    "\n",
    "    # Initialize agents by adding them to the agent network.\n",
    "    sine_agent = _agent_network.add_agent(agentType=SineGeneratorAgent)\n",
    "    monitor_agent = _agent_network.add_agent(agentType=MonitorAgent, buffer_size=200)\n",
    "    sine_agent.bind_output(monitor_agent)\n",
    "\n",
    "    # Set all agents states to \"Running\".\n",
    "    _agent_network.set_running_state()\n",
    "\n",
    "    return _agent_network\n",
    "\n",
    "\n",
    "if __name__ == \"__main__\":\n",
    "    demonstrate_mesa_backend()\n"
   ]
  }
 ],
 "metadata": {
  "kernelspec": {
   "display_name": "Python 3 (ipykernel)",
   "language": "python",
   "name": "python3"
  },
  "language_info": {
   "codemirror_mode": {
    "name": "ipython",
    "version": 3
   },
   "file_extension": ".py",
   "mimetype": "text/x-python",
   "name": "python",
   "nbconvert_exporter": "python",
   "pygments_lexer": "ipython3",
   "version": "3.11.9"
  },
  "varInspector": {
   "cols": {
    "lenName": 16,
    "lenType": 16,
    "lenVar": 40
   },
   "kernels_config": {
    "python": {
     "delete_cmd_postfix": "",
     "delete_cmd_prefix": "del ",
     "library": "var_list.py",
     "varRefreshCmd": "print(var_dic_list())"
    },
    "r": {
     "delete_cmd_postfix": ") ",
     "delete_cmd_prefix": "rm(",
     "library": "var_list.r",
     "varRefreshCmd": "cat(var_dic_list()) "
    }
   },
   "types_to_exclude": [
    "module",
    "function",
    "builtin_function_or_method",
    "instance",
    "_Feature"
   ],
   "window_display": false
  }
 },
 "nbformat": 4,
 "nbformat_minor": 4
}
